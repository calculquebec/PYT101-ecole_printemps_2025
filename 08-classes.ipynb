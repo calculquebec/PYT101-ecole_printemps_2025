{
 "cells": [
  {
   "cell_type": "markdown",
   "id": "e73dcfe5-9961-430c-9d39-74dd5c8e8ec7",
   "metadata": {},
   "source": [
    "## Classe\n",
    "\n",
    "### Qu'est-ce que la programmation orientée objet ?\n",
    "\n",
    "La programmation orientée objet est une manière différente d'écrire du code par rapport à ce que nous avons fait jusqu'à présent. Dans les notebooks précédents, chaque fois que nous voulions effectuer un calcul, nous écrivions directement ce que nous voulions faire en appelant des fonctions et en assignant les résultats à des variables.\n",
    "\n",
    "En programmation orientée objet, cependant, les fonctions et les variables passent au second plan au profit d’un autre type d’entité appelé **Objet**.\n",
    "\n",
    "Un Objet est un morceau de code qui regroupe un ensemble de variables et de fonctions dans une seule entité. Dans le jargon de la programmation orientée objet, les variables contenues dans un objet sont appelées **attributs**, tandis que les fonctions sont appelées **méthodes**. En général, un programme orienté objet comportera plusieurs objets qui utilisent leurs méthodes pour interagir entre eux et accomplir des tâches. Les objets qui possèdent les mêmes attributs et méthodes appartiennent à une même **Classe**. Les classes sont donc une sorte de gabarit pour créer des objets, qui définissent les attributs et méthodes. En pratique, un programme utilise des objets de différentes classes pour fonctionner.\n",
    "\n",
    "### Syntaxe d'une classe\n",
    "\n",
    "<p align=\"center\">\n",
    "  <img src=\"fig/classe.png\" alt=\"Photo centrée\" width=\"600\">\n",
    "</p>\n",
    "\n",
    "\n",
    "- `class Chien:` définit une classe appelée `Chien`.\n",
    "- `__init__()` est une méthode spéciale appelée **constructeur**. C’est une méthode qui est automatiquement exécutée lorsqu’un objet est créé à partir d’une classe et qui sert à initialiser de nouveaux objets.\n",
    "- `self` représente l'objet lui-même.\n",
    "- `self.nom` and `self.age` sont des attributs. Ce sont les données propres à chaque objet.\n",
    "- `japper()` est une méthode."
   ]
  },
  {
   "cell_type": "code",
   "execution_count": 1,
   "id": "09eb7ef6-65a7-40bf-af6a-47a5f621f2ae",
   "metadata": {},
   "outputs": [],
   "source": [
    "class Chien:\n",
    "    def __init__(self, nom, age):\n",
    "        self.nom = nom\n",
    "        self.age = age\n",
    "\n",
    "    def japper(self):\n",
    "        print(f\"{self.nom} dit Woof!\")"
   ]
  },
  {
   "cell_type": "code",
   "execution_count": 2,
   "id": "52cda595-e2c8-4ff6-8cc8-5551a7b8a6c6",
   "metadata": {},
   "outputs": [],
   "source": [
    "mon_chien = Chien(\"Tobby\", 7)"
   ]
  },
  {
   "cell_type": "code",
   "execution_count": 3,
   "id": "28e8bea8-ab08-4211-9fc4-f4ae0841d8c2",
   "metadata": {},
   "outputs": [
    {
     "data": {
      "text/plain": [
       "7"
      ]
     },
     "execution_count": 3,
     "metadata": {},
     "output_type": "execute_result"
    }
   ],
   "source": [
    "mon_chien.age "
   ]
  },
  {
   "cell_type": "code",
   "execution_count": 4,
   "id": "aded0603-9be8-4a35-93b1-be5ef46cac29",
   "metadata": {},
   "outputs": [
    {
     "name": "stdout",
     "output_type": "stream",
     "text": [
      "Tobby dit Woof!\n"
     ]
    }
   ],
   "source": [
    "mon_chien.japper()"
   ]
  },
  {
   "cell_type": "markdown",
   "id": "c34de432-0469-4d4b-bf1c-7639792be4ea",
   "metadata": {},
   "source": [
    "Pour vous aider à différencier les attributs des méthodes, remarquez la syntaxe lorsqu'on crée un objet et qu'on appelle les attributs et méthodes. Les deux débutent par le nom de l'objet suivi d'un point. Dans le cas de la méthode, on doit ajouter des `()` à la fin, mais ce n'est pas le cas pour les attributs. Dans un notebook, la fonction d'autocomplétion permet aussi de voir quels attributs et méthodes sont associés à mes objets."
   ]
  },
  {
   "cell_type": "code",
   "execution_count": 5,
   "id": "ec645021-b365-450d-8928-d3d9158271b9",
   "metadata": {},
   "outputs": [],
   "source": [
    "#"
   ]
  },
  {
   "cell_type": "markdown",
   "id": "f5757c3c-f36b-4d74-b013-2054bd2e79e0",
   "metadata": {},
   "source": [
    "### Pourquoi utiliser la programmation orientée objet ?\n",
    "\n",
    "1. Les classes permettent de représenter des choses concrètes. Chaque objet peut avoir ses données (attributs) et ses actions (méthodes). Exemple : un objet `Voiture` avec des attributs `marque` et `vitesse` et des méthodes comme `freiner`.\n",
    "2. Réutiliser du code facilement : permet de créer plusieurs objets à partir d’une seule classe, au lieu de répéter le même code partout. Exemple : `v1 = Voiture(\"Toyota\", 80)` et `v2 = Voiture(\"BMW\", 100)`.\n",
    "3. Organiser et structurer le code, en regroupant les données (attributs) et fonctions associées (méthodes).\n",
    "\n",
    "Exercice : Créer une classe `CompteBancaire` permettant de connaître le titulaire du compte, le solde et d'effectuer des opérations pour déposer ou de retirer des fonds."
   ]
  },
  {
   "cell_type": "code",
   "execution_count": 6,
   "id": "8ab3ee4a-2448-4f0a-a711-56af325cfc70",
   "metadata": {},
   "outputs": [],
   "source": [
    "#"
   ]
  },
  {
   "cell_type": "markdown",
   "id": "6a789e28-d1c0-43b2-bc6c-87202d62c12c",
   "metadata": {},
   "source": [
    "### L'héritage des classes\n",
    "\n",
    "Au lieu d'écrire une classe à partir de zéro, il est possible de créer une nouvelle classe (appelée classe enfant) à partir d’une classe existante (appelée classe parent).\n",
    "\n",
    "La classe enfant hérite automatiquement des attributs (données) et des méthodes (fonctions) de la classe parent. Cette approche permet de réutiliser du code déjà écrit pour éviter des répétitions."
   ]
  },
  {
   "cell_type": "code",
   "execution_count": 1,
   "id": "7d34092e-bb9a-4d14-b8dd-934792157e1f",
   "metadata": {},
   "outputs": [],
   "source": [
    "class Personne:\n",
    "    def __init__(self, prenom, nomfam):\n",
    "        self.prenom = prenom\n",
    "        self.nomfam = nomfam\n",
    "        \n",
    "    def afficher_nom_complet(self):\n",
    "        print(self.prenom, self.nomfam)"
   ]
  },
  {
   "cell_type": "code",
   "execution_count": 2,
   "id": "e21f0c60-48b8-48c1-890e-08cbbf511b00",
   "metadata": {},
   "outputs": [],
   "source": [
    "individu_x = Personne(\"Homer\", \"Simpson\")"
   ]
  },
  {
   "cell_type": "code",
   "execution_count": 3,
   "id": "f23d6e41-b661-4a89-b80a-bfec71ffc9a9",
   "metadata": {},
   "outputs": [
    {
     "name": "stdout",
     "output_type": "stream",
     "text": [
      "Homer Simpson\n"
     ]
    }
   ],
   "source": [
    "individu_x.afficher_nom_complet()"
   ]
  },
  {
   "cell_type": "code",
   "execution_count": 11,
   "id": "bf690376-4d2e-4eb3-9784-fd4d28cf91b0",
   "metadata": {},
   "outputs": [],
   "source": [
    "# Maintenant la classe enfant \"Employe\" va hériter de la classe parent \"Personne\"\n",
    "\n",
    "class Employe(Personne):\n",
    "    def __init__(self, prenom, nomfam, idemploye):\n",
    "        super().__init__(prenom, nomfam) # Appel le constructeur de la classe parent\n",
    "        self.idemploye = idemploye\n",
    "\n",
    "    def presentation_employe(self):\n",
    "        super().afficher_nom_complet()\n",
    "        print(self.idemploye)"
   ]
  },
  {
   "cell_type": "code",
   "execution_count": 13,
   "id": "f604f752",
   "metadata": {},
   "outputs": [],
   "source": [
    "un_employe = Employe(\"Peter\", \"Griffin\", 12345)"
   ]
  },
  {
   "cell_type": "code",
   "execution_count": 14,
   "id": "39eebd4a-78fe-4926-b74a-a1130c9b819d",
   "metadata": {},
   "outputs": [
    {
     "name": "stdout",
     "output_type": "stream",
     "text": [
      "Peter\n"
     ]
    }
   ],
   "source": [
    "print(un_employe.prenom)"
   ]
  },
  {
   "cell_type": "code",
   "execution_count": 15,
   "id": "d92a1c1c-37f0-45f1-91d2-c7fa6342bb2c",
   "metadata": {},
   "outputs": [
    {
     "name": "stdout",
     "output_type": "stream",
     "text": [
      "Peter Griffin\n"
     ]
    }
   ],
   "source": [
    "un_employe.afficher_nom_complet()"
   ]
  },
  {
   "cell_type": "code",
   "execution_count": 16,
   "id": "0fb35a17-3ff4-4ba1-8742-049cee4c3cd5",
   "metadata": {},
   "outputs": [
    {
     "name": "stdout",
     "output_type": "stream",
     "text": [
      "Peter Griffin\n",
      "12345\n"
     ]
    }
   ],
   "source": [
    "un_employe.presentation_employe()"
   ]
  },
  {
   "cell_type": "markdown",
   "id": "49c7fef6-ad5d-4a5a-a623-b924f2ab31be",
   "metadata": {},
   "source": [
    "Remarquez qu'on a pu appeler la fonction `afficher_nom_complet()` même si on ne l'a pas définie dans la classe `Employe`. Il en va de même pour l'attribut `.prenom`. C'est parce qu'ils ont été hérités de la classe parent. C'est la fonction `super()` qui vient appeler les attributs et méthodes de la classe parent depuis la classe enfant. La fonction `super()` peut aussi être utilisée pour appeler n'importe quelle méthode de la classe parent afin d'ajouter un nouveau comportement.\n",
    "\n",
    "Le nom des paramètres de la classe enfant n'a pas besoin d'être identique à la classe parent. Le premier paramètre passé à `super().__init__()` va hériter de l'attribut associé au premier paramètre de la classe parent.\n",
    "\n",
    "Exercice : Créer une classe `Etudiant` qui hérite de la classe `Personne`. Ajouter un attribut appelé `GPA` et une méthode pour imprimer le GPA. Créer un objet de cette classe avec votre nom et votre GPA et imprimez ensuite ces attributs."
   ]
  },
  {
   "cell_type": "code",
   "execution_count": 4,
   "id": "6c2c7e9d-5c31-48c9-908b-2a15d45485c3",
   "metadata": {},
   "outputs": [],
   "source": [
    "#"
   ]
  }
 ],
 "metadata": {
  "kernelspec": {
   "display_name": "Python 3 (ipykernel)",
   "language": "python",
   "name": "python3"
  },
  "language_info": {
   "codemirror_mode": {
    "name": "ipython",
    "version": 3
   },
   "file_extension": ".py",
   "mimetype": "text/x-python",
   "name": "python",
   "nbconvert_exporter": "python",
   "pygments_lexer": "ipython3",
   "version": "3.13.5"
  }
 },
 "nbformat": 4,
 "nbformat_minor": 5
}
