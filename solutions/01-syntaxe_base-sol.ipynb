{
 "cells": [
  {
   "cell_type": "markdown",
   "id": "fe009ff3-405d-4adc-b66c-dd7c7575cca8",
   "metadata": {},
   "source": [
    "# Syntaxe de base\n",
    "## Objectif : Comprendre la syntaxe de base en Python et les types de données."
   ]
  },
  {
   "cell_type": "markdown",
   "id": "db549b1d-b487-496c-8393-26c5d789d1dc",
   "metadata": {},
   "source": [
    "### Opérations mathématiques\n",
    "\n",
    "L'utilisation la plus basique de Python est de l'utiliser comme une calculatrice sophistiquée. Il est très facile de faire des calculs simples en Python."
   ]
  },
  {
   "cell_type": "code",
   "execution_count": null,
   "id": "0e597863-41a2-433f-9010-61c13d05ebc7",
   "metadata": {},
   "outputs": [],
   "source": [
    "print(5 + 1)"
   ]
  },
  {
   "cell_type": "markdown",
   "id": "77aa3b8f-2e26-408c-b972-6a9a0d7e1e56",
   "metadata": {},
   "source": [
    "Notez que nous n’avons pas toujours besoin d’utiliser l’instruction `print()`. Remarquez que le fait de ne pas utiliser `print()` nous donne le même résultat qu’auparavant."
   ]
  },
  {
   "cell_type": "code",
   "execution_count": null,
   "id": "636c2166-f84e-40f3-a402-2eb3c3a5d536",
   "metadata": {},
   "outputs": [],
   "source": [
    "5 + 1"
   ]
  },
  {
   "cell_type": "markdown",
   "id": "b77c57de-c6ba-4a00-8603-8101bc86f93a",
   "metadata": {},
   "source": [
    "Python peut effectuer toutes les opérations mathématiques de base que vous attendez."
   ]
  },
  {
   "cell_type": "code",
   "execution_count": null,
   "id": "f2cb3fed-7916-4b50-872e-dc40de0e4e40",
   "metadata": {},
   "outputs": [],
   "source": [
    "5 + 3"
   ]
  },
  {
   "cell_type": "code",
   "execution_count": null,
   "id": "f3d9be1e-c71a-46c7-8bad-4e3072b70dda",
   "metadata": {},
   "outputs": [],
   "source": [
    "2 - 9"
   ]
  },
  {
   "cell_type": "code",
   "execution_count": null,
   "id": "2430e10b-be6f-43a4-8f0c-77eba301edf9",
   "metadata": {},
   "outputs": [],
   "source": [
    "4 * 6"
   ]
  },
  {
   "cell_type": "code",
   "execution_count": null,
   "id": "06879c6a-1e90-4ea6-8bfa-cc240749e244",
   "metadata": {},
   "outputs": [],
   "source": [
    "14 / 3"
   ]
  },
  {
   "cell_type": "markdown",
   "id": "d56facd1-cd94-430b-9192-20167fe7d296",
   "metadata": {},
   "source": [
    "Vous pouvez l'utiliser pour faire des opérations plus complexes, comme des exposants avec `**`."
   ]
  },
  {
   "cell_type": "code",
   "execution_count": null,
   "id": "7dd0e518-8c9f-4684-a5ef-a9ecc1d607df",
   "metadata": {},
   "outputs": [],
   "source": [
    "5 ** 2"
   ]
  },
  {
   "cell_type": "markdown",
   "id": "080e9dc4-e47c-4bcd-8471-490a63f29b29",
   "metadata": {},
   "source": [
    "Ainsi que pour la division entière et le reste de la division. La division entière `//` donne le résultat de la division, arrondi à l'entier inférieur. Le reste de la division `%` donne le reste après la division."
   ]
  },
  {
   "cell_type": "code",
   "execution_count": null,
   "id": "26bd3ce4-4a70-481c-9e86-3dd09a61c3e9",
   "metadata": {},
   "outputs": [],
   "source": [
    "5 // 2"
   ]
  },
  {
   "cell_type": "code",
   "execution_count": null,
   "id": "1da34eb1-7261-4982-bc0f-5ab0eb7e49d6",
   "metadata": {},
   "outputs": [],
   "source": [
    "5 % 2"
   ]
  },
  {
   "cell_type": "markdown",
   "id": "b1a87c31-df63-45ad-ab6b-ec14b52abe7a",
   "metadata": {},
   "source": [
    "### Variables \n",
    "\n",
    "Bien sûr, nous voudrons probablement enregistrer nos résultats à un moment donné. Pour cela, nous pouvons utiliser des variables. En Python, une variable est un nom donné à un résultat enregistré. On peut les définir avec le signe égal `=`."
   ]
  },
  {
   "cell_type": "code",
   "execution_count": null,
   "id": "aa3ddada-54b7-454b-a491-e0f47ef25fdd",
   "metadata": {},
   "outputs": [],
   "source": [
    "weight_kg = 52"
   ]
  },
  {
   "cell_type": "markdown",
   "id": "83f9841d-8f9d-43d2-aa12-673dc676a985",
   "metadata": {},
   "source": [
    "Si nous voulons récupérer l'information que nous avons enregistrée, il suffit simplement de retaper le nom de la variable."
   ]
  },
  {
   "cell_type": "code",
   "execution_count": null,
   "id": "cefcd0d6-f69a-4a11-9aa9-f8354f9ec1e0",
   "metadata": {},
   "outputs": [],
   "source": [
    "weight_kg"
   ]
  },
  {
   "cell_type": "markdown",
   "id": "77cb95eb-f3e1-4ede-aeda-1dfba2c1ceaa",
   "metadata": {},
   "source": [
    "Nous pouvons effectuer des opérations mathématiques sur des variables de la même manière que nous le ferions normalement."
   ]
  },
  {
   "cell_type": "code",
   "execution_count": null,
   "id": "7e4d7b25-5021-461e-a977-1025c97f30ad",
   "metadata": {},
   "outputs": [],
   "source": [
    "print('Poids en lb:', 2.2 * weight_kg)"
   ]
  },
  {
   "cell_type": "markdown",
   "id": "f0421917-5f1c-4148-9a47-0a15648521d7",
   "metadata": {},
   "source": [
    "Comme le montre l'exemple ci-dessus, nous pouvons afficher plusieurs éléments à la fois en les séparant par des virgules. Nous pouvons également changer la valeur d'une variable en lui en assignant une nouvelle :"
   ]
  },
  {
   "cell_type": "code",
   "execution_count": null,
   "id": "a1d6ba4c-6807-4e07-81a1-06bff6526c72",
   "metadata": {},
   "outputs": [],
   "source": [
    "weight_lb = 2.2 * weight_kg\n",
    "print(weight_lb)"
   ]
  },
  {
   "cell_type": "markdown",
   "id": "5a61f28e-ef46-4c09-a17b-74219ca0200f",
   "metadata": {},
   "source": [
    "Qu'est-ce qui se passe si on change une variable ? Changeons `weight_kg` et observons l'effet sur `weight_lb`."
   ]
  },
  {
   "cell_type": "code",
   "execution_count": null,
   "id": "1f91d896-4b4d-41a5-898e-8c12f82f0d2f",
   "metadata": {},
   "outputs": [],
   "source": [
    "weight_kg = 57\n",
    "print(weight_lb)"
   ]
  },
  {
   "cell_type": "markdown",
   "id": "e8cf6f77-e13f-41e4-b38b-98a5f5eb36fa",
   "metadata": {},
   "source": [
    "Remarquez que même si nous avons changé la valeur de `weight_kg`, `weight_lb` ne s'est pas mis à jour. Cela démontre une propriété très importante des langages de programmation : un ordinateur ne fera rien à moins qu'on ne lui dise spécifiquement de le faire — rien ne se passe automatiquement. Cela diffère du comportement des tableurs, où une cellule se met automatiquement à jour lorsqu'elle se réfère à une autre cellule qui a été modifiée.\n",
    "\n",
    "Si nous voulons dire à Python de mettre à jour `weight_lb` pour refléter la nouvelle valeur de `weight_kg`, nous devrons effectuer cette opération explicitement."
   ]
  },
  {
   "cell_type": "code",
   "execution_count": null,
   "id": "26795487-0f8e-4ba2-9903-7f7e5e0c6191",
   "metadata": {},
   "outputs": [],
   "source": [
    "weight_lb = weight_kg * 2.2\n",
    "print('La nouvelle valeur de weight_lb est', weight_lb)"
   ]
  },
  {
   "cell_type": "markdown",
   "id": "f8a81400-aff1-40d1-9e31-acf88533b6bd",
   "metadata": {},
   "source": [
    "### Erreurs\n",
    "\n",
    "Bien sûr, tout ne fonctionnera pas toujours parfaitement. Nous allons rencontrer des erreurs. Par exemple, que se passe-t-il si nous oublions accidentellement de terminer une commande ?"
   ]
  },
  {
   "cell_type": "code",
   "execution_count": null,
   "id": "0ea12523-880c-4dfa-9d56-58f896e64398",
   "metadata": {},
   "outputs": [],
   "source": [
    "1 + "
   ]
  },
  {
   "cell_type": "markdown",
   "id": "8e86c04a-003c-4b9d-9e03-b09f02c361b1",
   "metadata": {},
   "source": [
    "C'est une erreur. Les erreurs sont bonnes ! Lorsque nous faisons quelque chose que Python n'aime pas, il nous donnera un message d'erreur. Ces messages d'erreur nous indiquent souvent exactement comment corriger notre code !\n",
    "\n",
    "Passons en revue cette erreur. `SyntaxError: invalid syntax`. Toutes les erreurs ont des types. Celle-ci est une SyntaxError, ce qui signifie… une erreur dans notre syntaxe ! Python ne comprend que certaines commandes, et une faute de frappe peut tout dérégler. Si nous tapons une commande de manière à ce que Python ne puisse pas la comprendre, nous devons corriger notre syntaxe."
   ]
  },
  {
   "cell_type": "markdown",
   "id": "d19de7eb-fa42-4a54-bc14-bdfeabde56e6",
   "metadata": {},
   "source": [
    "### Types de données\n",
    "\n",
    "Les variables ne servent pas seulement à enregistrer des valeurs numériques. D'autres types de données existent.\n",
    "\n",
    "- Les chaînes de caractères (*strings*). Les chaînes servent à stocker du texte. Elles sont entre simple (`' '`) ou double (`\" \"`) guillemets."
   ]
  },
  {
   "cell_type": "code",
   "execution_count": null,
   "id": "8482ec9c-a9b9-4857-b63d-33e622d528bd",
   "metadata": {},
   "outputs": [],
   "source": [
    "print('ceci est une chaîne')\n",
    "print(\"ceci est aussi une chaîne\")"
   ]
  },
  {
   "cell_type": "markdown",
   "id": "812bce14-b001-426b-81e7-786cb0c7444e",
   "metadata": {},
   "source": [
    "Python rend très facile le travail avec du texte simple. Par exemple, nous pouvons même utiliser le signe `+` pour concaténer des chaînes de caractères, ou `*` pour en répéter le contenu."
   ]
  },
  {
   "cell_type": "code",
   "execution_count": null,
   "id": "215c894c-3e5a-4f15-8cd2-7f1990d5d535",
   "metadata": {},
   "outputs": [],
   "source": [
    "'ceci est une chaîne' + ', que je peux rallonger'"
   ]
  },
  {
   "cell_type": "code",
   "execution_count": null,
   "id": "33972f18-cfcf-426f-9ae4-258cdd9c7cb4",
   "metadata": {},
   "outputs": [],
   "source": [
    "'répétition' * 3"
   ]
  },
  {
   "cell_type": "markdown",
   "id": "04b63c62-3a72-49ef-967c-250b10b4d086",
   "metadata": {},
   "source": [
    "Notez que les opérations mathématiques sur les chaînes de caractères ne fonctionnent que dans une certaine mesure. Par exemple, essayer d’ajouter une chaîne de caractères à un nombre ne fonctionne pas !"
   ]
  },
  {
   "cell_type": "code",
   "execution_count": null,
   "id": "32c43093-44c3-49b4-8603-108a60a6754b",
   "metadata": {},
   "outputs": [],
   "source": [
    "'5' + 5"
   ]
  },
  {
   "cell_type": "markdown",
   "id": "008508b9-cdfb-47aa-82f7-e3c06d82ba1a",
   "metadata": {},
   "source": [
    "Le message d'erreur nous indique qu'il n'est pas possible de concaténer une chaîne avec un nombre. Ce sont deux types de données différents. Si vous voulez connaître le type de données d'une variable, vous pouvez utiliser la commande `type()`."
   ]
  },
  {
   "cell_type": "code",
   "execution_count": null,
   "id": "2ea098eb-8639-45c9-80ae-a149d1932db2",
   "metadata": {},
   "outputs": [],
   "source": [
    "type('chaîne')"
   ]
  },
  {
   "cell_type": "markdown",
   "id": "04eab75a-a415-4115-b905-c550eb49e4d2",
   "metadata": {},
   "source": [
    "str pour *string* (chaîne)"
   ]
  },
  {
   "cell_type": "code",
   "execution_count": null,
   "id": "f141f7ae-ee58-47e9-8299-03a6ed30667c",
   "metadata": {},
   "outputs": [],
   "source": [
    "type(5)"
   ]
  },
  {
   "cell_type": "markdown",
   "id": "bfb37f52-7c8d-46ff-b21a-1308463cfd93",
   "metadata": {},
   "source": [
    "int pour *integer* (entier)"
   ]
  },
  {
   "cell_type": "code",
   "execution_count": null,
   "id": "b6eb950e-1567-4f45-a507-60b93aae29a5",
   "metadata": {},
   "outputs": [],
   "source": [
    "type(5.4)"
   ]
  },
  {
   "cell_type": "markdown",
   "id": "ed26b366-2458-4776-a76e-dc2c604b3969",
   "metadata": {},
   "source": [
    "*float* pour nombre à virgule flottante, c'est-à-dire nombre décimal."
   ]
  },
  {
   "cell_type": "markdown",
   "id": "d620c852-d950-452b-9c12-3485c4396dc8",
   "metadata": {},
   "source": [
    "- Les *floats* (nombres décimaux) sont donc une autre sorte de donnée. Contrairement aux chaînes pour lesquelles on ne peut pas faire d'opérations mathématiques avec les entiers, les *floats* peuvent être combinées aux entiers *int*."
   ]
  },
  {
   "cell_type": "code",
   "execution_count": null,
   "id": "71e1c4da-796b-4e5d-a143-97ee0b8800c8",
   "metadata": {},
   "outputs": [],
   "source": [
    "5.4 + 3"
   ]
  },
  {
   "cell_type": "markdown",
   "id": "b01303cd-ea0d-4bdb-983d-65dc9e45a5d4",
   "metadata": {},
   "source": [
    "Il est possible de convertir le type de données. Python a un certain niveau d'intelligence et affiche des messages d'erreurs lorsque la transformation est invalide, mais il faut quand même utiliser ces commandes avec prudence."
   ]
  },
  {
   "cell_type": "code",
   "execution_count": null,
   "id": "8163e32e-8e03-40b2-8cd1-a88dbebeffe8",
   "metadata": {},
   "outputs": [],
   "source": [
    "int('5')"
   ]
  },
  {
   "cell_type": "code",
   "execution_count": null,
   "id": "6a10a7a8-0cb0-4c3e-8e54-1058637671a9",
   "metadata": {},
   "outputs": [],
   "source": [
    "int('five')"
   ]
  },
  {
   "cell_type": "code",
   "execution_count": null,
   "id": "f88958e3-7789-44b6-89df-d1c39bf7b683",
   "metadata": {},
   "outputs": [],
   "source": [
    "str(5)"
   ]
  },
  {
   "cell_type": "code",
   "execution_count": null,
   "id": "b8128a71-191d-4510-8d8a-6ea96604a2b1",
   "metadata": {},
   "outputs": [],
   "source": [
    "float(5)"
   ]
  },
  {
   "cell_type": "code",
   "execution_count": null,
   "id": "947f1e3d-2d12-43c1-8cff-fad8217f07b1",
   "metadata": {},
   "outputs": [],
   "source": [
    "int(5.4)"
   ]
  },
  {
   "cell_type": "markdown",
   "id": "68dfd7c3-a914-4f74-ad70-2510045d638f",
   "metadata": {},
   "source": [
    "Attention : la commande `int()` va retirer les décimales."
   ]
  },
  {
   "cell_type": "markdown",
   "id": "bb31f86c-66ce-4b1a-a0c6-4c2712e47f07",
   "metadata": {},
   "source": [
    "- Python possède deux valeurs spéciales appelées booléens pour indiquer si quelque chose est vrai ou faux. Sans surprise, ces valeurs sont : `True` et `False`. Ce sont un type de données fondamental utilisé pour les opérations logiques, les comparaisons et les instructions conditionnelles."
   ]
  },
  {
   "cell_type": "code",
   "execution_count": null,
   "id": "7091cea1-338b-40cf-8749-6028480fbddc",
   "metadata": {},
   "outputs": [],
   "source": [
    "type(True)"
   ]
  },
  {
   "cell_type": "code",
   "execution_count": null,
   "id": "13e98409-5bca-48d2-9993-403d9835fa61",
   "metadata": {},
   "outputs": [],
   "source": [
    "type(False)"
   ]
  },
  {
   "cell_type": "code",
   "execution_count": null,
   "id": "069aed67-e8cb-4814-8348-cee4299c26f1",
   "metadata": {},
   "outputs": [],
   "source": [
    "1 == 3"
   ]
  },
  {
   "cell_type": "code",
   "execution_count": null,
   "id": "34582de5-d7fc-46bf-977e-4e06e8884ea0",
   "metadata": {},
   "outputs": [],
   "source": [
    "1 != 3"
   ]
  },
  {
   "cell_type": "code",
   "execution_count": null,
   "id": "1edf1890-3da8-457c-94b5-6d8cc3fbca64",
   "metadata": {},
   "outputs": [],
   "source": [
    "'abc' == 'abc'"
   ]
  },
  {
   "cell_type": "code",
   "execution_count": null,
   "id": "dfff5870-b4a9-4d0d-818c-a74f70aff381",
   "metadata": {},
   "outputs": [],
   "source": [
    "5 > 4"
   ]
  },
  {
   "cell_type": "markdown",
   "id": "dcf3d402-efc3-466d-9915-d014ce5d7f65",
   "metadata": {},
   "source": [
    "Exercice\n",
    "\n",
    "Corrigez la partie gauche de chaque énoncé pour que l'égalité retourne `True`"
   ]
  },
  {
   "cell_type": "code",
   "execution_count": null,
   "id": "ad4e40a8-0005-4e33-a448-045eb4b9c385",
   "metadata": {},
   "outputs": [],
   "source": [
    "str(1) + '1' == '11'"
   ]
  },
  {
   "cell_type": "code",
   "execution_count": null,
   "id": "a44ad623-996c-418c-883c-32c30c545f79",
   "metadata": {},
   "outputs": [],
   "source": [
    "int('6') - 7 == -1"
   ]
  },
  {
   "cell_type": "code",
   "execution_count": null,
   "id": "83100122-3f87-48b5-a7d1-0d46814aac0d",
   "metadata": {},
   "outputs": [],
   "source": [
    "int(7.23) == 7"
   ]
  },
  {
   "cell_type": "code",
   "execution_count": null,
   "id": "f2911072-7f26-429c-84b7-f540af74fe4d",
   "metadata": {},
   "outputs": [],
   "source": [
    "bool('5') == True"
   ]
  },
  {
   "cell_type": "code",
   "execution_count": null,
   "id": "8e50e6c4-b0c5-40da-8587-c45003967611",
   "metadata": {},
   "outputs": [],
   "source": [
    "4 / int(1.3) == 4"
   ]
  },
  {
   "cell_type": "markdown",
   "id": "ecf449e4-8e19-42ad-82a2-51958b3dbd0c",
   "metadata": {},
   "source": [
    "### Pour aller plus loin\n",
    "\n",
    "Il existe plusieurs méthodes utiles associées aux chaînes de caractères. En voici quelques unes qui pourraient être pratiques dans vos projets. Pour une liste plus exhaustive, vous pouvez consulter ce lien : https://www.w3schools.com/python/python_ref_string.asp"
   ]
  },
  {
   "cell_type": "markdown",
   "id": "88b45626-f73f-4550-b56f-2ebba3aa416c",
   "metadata": {},
   "source": [
    "`count()` : retourne le nombre de fois qu’une valeur spécifique apparaît dans une chaîne de caractères"
   ]
  },
  {
   "cell_type": "code",
   "execution_count": null,
   "id": "ff2b1483-36f3-4aea-b6ca-246f7d8350c4",
   "metadata": {},
   "outputs": [],
   "source": [
    "papillon = 'Les papillons oranges et les papillons jaunes sont mes préférés'"
   ]
  },
  {
   "cell_type": "code",
   "execution_count": null,
   "id": "b95f6ac5-0567-43d7-aa39-59b9d9d07f50",
   "metadata": {},
   "outputs": [],
   "source": [
    "papillon.count('papillons')"
   ]
  },
  {
   "cell_type": "markdown",
   "id": "cd60d860-64de-4b58-b9f6-e83599854c26",
   "metadata": {},
   "source": [
    "`join()` : combine les éléments d'un tuple en chaîne, avec un séparateur spécifié"
   ]
  },
  {
   "cell_type": "code",
   "execution_count": null,
   "id": "1465b99b-4275-4451-b77d-92dc6e7e5ffa",
   "metadata": {},
   "outputs": [],
   "source": [
    "'-'.join(('2025','05','24'))"
   ]
  },
  {
   "cell_type": "markdown",
   "id": "9b20825a-2859-4357-8eff-08b3016d7e80",
   "metadata": {},
   "source": [
    "`split()` : l'inverse de `join()`, sépare la chaîne en sous-chaînes dans une liste, selon le séparateur spécifié."
   ]
  },
  {
   "cell_type": "code",
   "execution_count": null,
   "id": "0ca64be6-c54d-4e91-aeed-6612282561e1",
   "metadata": {},
   "outputs": [],
   "source": [
    "'2025-05-24'.split('-')"
   ]
  },
  {
   "cell_type": "markdown",
   "id": "2e869733-cd6d-435a-89a8-7971ebaa42d2",
   "metadata": {},
   "source": [
    "`startswith()` : retourne un booléen si la chaîne débute par un préfixe spécifié"
   ]
  },
  {
   "cell_type": "code",
   "execution_count": null,
   "id": "076d730f-1435-4e05-8d78-38111969bdbf",
   "metadata": {},
   "outputs": [],
   "source": [
    "papillon.startswith('Des')"
   ]
  },
  {
   "cell_type": "markdown",
   "id": "d82a0ccf-7524-4da1-8830-b9c2f61dc00e",
   "metadata": {},
   "source": [
    "D'autres fonctions plus génériques s'appliquent bien aux chaînes également.\n",
    "\n",
    "`len()` : retourne la longueur de la chaîne"
   ]
  },
  {
   "cell_type": "code",
   "execution_count": null,
   "id": "6006339f-5289-4f7b-bf56-ee676cdc81e5",
   "metadata": {},
   "outputs": [],
   "source": [
    "len(papillon)"
   ]
  },
  {
   "cell_type": "markdown",
   "id": "53e6b55d-2000-49dd-9fc1-5819ef03883f",
   "metadata": {},
   "source": [
    "`set()` : retourne les éléments uniques"
   ]
  },
  {
   "cell_type": "code",
   "execution_count": null,
   "id": "57735a06-5aac-4ad6-aa27-ba2300e98588",
   "metadata": {},
   "outputs": [],
   "source": [
    "sequence = 'AAGGTTTCCAGCTAGGTACCCGATATTAGTTTCCAAAATTGCGA'"
   ]
  },
  {
   "cell_type": "code",
   "execution_count": null,
   "id": "f9b7948f-4011-4e35-81c4-d4c0d9162234",
   "metadata": {},
   "outputs": [],
   "source": [
    "set(sequence)"
   ]
  }
 ],
 "metadata": {
  "kernelspec": {
   "display_name": "Python 3 (ipykernel)",
   "language": "python",
   "name": "python3"
  },
  "language_info": {
   "codemirror_mode": {
    "name": "ipython",
    "version": 3
   },
   "file_extension": ".py",
   "mimetype": "text/x-python",
   "name": "python",
   "nbconvert_exporter": "python",
   "pygments_lexer": "ipython3",
   "version": "3.13.1"
  }
 },
 "nbformat": 4,
 "nbformat_minor": 5
}
