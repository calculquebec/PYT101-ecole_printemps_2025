{
 "cells": [
  {
   "cell_type": "markdown",
   "id": "12255514-57b2-4b80-b875-ae5b443ce268",
   "metadata": {},
   "source": [
    "# Fichiers, conditions et boucles\n",
    "\n",
    "## Objectifs :\n",
    "## - Savoir utiliser une boucle `for` \n",
    "## - Savoir utiliser la déclaration conditionnelle `if`\n",
    "## - Explorer les différentes façons de lire des fichiers\n",
    "\n",
    "On commence réellement à apprécier les gains en rapidité de la programmation avec Python quand on arrive à sauver du temps grâce aux boucles. Celles-ci nous permettent d'effectuer une même séquence d'opérations sur différents fichiers avec quelques lignes de code seulement.\n",
    "\n",
    "### Structure d'une boucle\n",
    "\n",
    "<p align=\"center\">\n",
    "  <img src=\"../fig/boucle.png\" alt=\"Photo centrée\" width=\"600\">\n",
    "</p>\n",
    "\n",
    "Chaque boucle débute par `for i in iterable :`\n",
    "- `i` : Le nom de la variable `i` n'a aucune importance, on aurait pu l'appeler n'importe comment (exemple : `for animal in zoo :`) !\n",
    "- Exemples d'objets itérables :\n",
    "  - Les listes : `['a', 'b', 'c']`\n",
    "  - Les chaînes de caractères : `\"bonjour\"`\n",
    "  - Les dictionnaires : `{\"clé\": \"valeur\"}`\n",
    "  - Les ensembles (sets) : `{1, 2, 3}`\n",
    "  - Les objets retournés par une fonction comme `range()`\n",
    "  - Les fichiers\n",
    "- On termine la ligne avec un `:`. En Python, on met un `:` pour signaler le début d'un bloc (comme les boucles, les conditions, ou les contextes avec `with`), puis on **indente** le code qui en fait partie. Dans un notebook, l'indentation se fait automatiquement si le `:` a bien été ajouté.  \n",
    "\n",
    "Corps de la boucle :\n",
    "- Toute action qui doit être réalisée sur chaque élément de l'itérable, un à la fois (opération mathématique, transformation, figure, etc.)\n",
    "- Python comprend par lui même quand il est arrivé à la fin de l'itérable et quitte automatiquement la boucle."
   ]
  },
  {
   "cell_type": "code",
   "execution_count": null,
   "id": "c2a5cc6e-e311-46c2-b266-866193925ada",
   "metadata": {},
   "outputs": [],
   "source": [
    "for lettre in 'anticonstitutionnellement' :\n",
    "    print(lettre.upper())"
   ]
  },
  {
   "cell_type": "markdown",
   "id": "9e499948-22de-4245-8a9d-dde94068f76d",
   "metadata": {},
   "source": [
    "Exercice\n",
    "\n",
    "Écrivez une boucle qui permet d'obtenir la puissance au carré de tous les nombres de la liste `nombres`."
   ]
  },
  {
   "cell_type": "code",
   "execution_count": null,
   "id": "e5cae78c-2728-478f-8591-2f888daff26f",
   "metadata": {},
   "outputs": [],
   "source": [
    "nombres = [4, 8, 14, 20, 33, 100]\n",
    "\n",
    "for i in nombres :\n",
    "    print(i ** 2)"
   ]
  },
  {
   "cell_type": "markdown",
   "id": "b95b8366-b607-4b90-a8b7-d7112a1ea010",
   "metadata": {},
   "source": [
    "Exercice\n",
    "\n",
    "Imprimez la première lettre de chaque valeur du dictionnaire `capitales`."
   ]
  },
  {
   "cell_type": "code",
   "execution_count": null,
   "id": "75d4e7a7-7e4e-4d70-81ca-f7da4413c84c",
   "metadata": {},
   "outputs": [],
   "source": [
    "capitales = {'France': 'Paris',\n",
    "             'Canada': 'Ottawa',\n",
    "             'Italie': 'Rome',\n",
    "             'Espagne': 'Madrid',\n",
    "             'Thaïlande': 'Bangkok'}\n",
    "\n",
    "for value in capitales.values() :\n",
    "    print(value[0])"
   ]
  },
  {
   "cell_type": "markdown",
   "id": "86427ef4-37fa-4045-ab47-baf7937bbdf5",
   "metadata": {},
   "source": [
    "### Déclaration conditionnelle `if`\n",
    "\n",
    "La déclaration conditionnelle `if` en Python permet d'exécuter un bloc de code **seulement si** une condition est vraie. C’est un élément fondamental pour introduire la logique de décisionnelle dans un programme.\n",
    "\n",
    "- Syntaxe de base\n",
    "\n",
    "`if condition :`\n",
    "<p style=\"margin-left: 40px;\">\n",
    "<code># bloc de code exécuté si la condition est vraie\n",
    "</p>\n",
    "\n",
    "- Comme pour les boucles et la déclaration `with()`, le code suivant la déclaration `if` doit être indenté.\n",
    "\n",
    "- Conditions possibles : On peut utiliser des opérateurs de comparaison\n",
    "\n",
    "  - == : égal\n",
    "  - != : différent\n",
    "  - <, >, <=, >= : inférieurs / supérieurs\n",
    "  - and, or, not : opérateurs logiques\n",
    "  - in : vérifier si un élément existe dans une séquence (liste, chaîne, dictionnaire)\n",
    "\n",
    "Si l'énoncé est égal à `True`, il s'exécute :"
   ]
  },
  {
   "cell_type": "code",
   "execution_count": null,
   "id": "76ac4f60-f3fc-4d94-83f7-21e2ba740d69",
   "metadata": {},
   "outputs": [],
   "source": [
    "age = 18\n",
    "\n",
    "if age >= 18:\n",
    "    print(\"Vous êtes majeur.\")"
   ]
  },
  {
   "cell_type": "markdown",
   "id": "c47eec77-20c2-4237-ab40-1e92d97e644d",
   "metadata": {},
   "source": [
    "Si l'énoncé est égal à `False`, il ne s'exécute pas :"
   ]
  },
  {
   "cell_type": "code",
   "execution_count": null,
   "id": "6510c91b-f144-4623-ad47-5c956aeeac8e",
   "metadata": {},
   "outputs": [],
   "source": [
    "nombre = 11\n",
    "if nombre <= 10:\n",
    "    print('Le nombre était plus petit que 10')"
   ]
  },
  {
   "cell_type": "code",
   "execution_count": null,
   "id": "5f3f6bee-01d4-4403-985f-7c88f8319397",
   "metadata": {},
   "outputs": [],
   "source": [
    "fin_de_semaine = ['samedi','dimanche']\n",
    "\n",
    "if 'lundi' in fin_de_semaine :\n",
    "    print('Cette journée fait partie de la fin de semaine')"
   ]
  },
  {
   "cell_type": "markdown",
   "id": "65edff7c-ec1c-48c3-ba59-1972856ecca3",
   "metadata": {},
   "source": [
    "On peut ajouter du code à exécuter si la condition `if` retourne `False` avec l'énoncé `else`."
   ]
  },
  {
   "cell_type": "code",
   "execution_count": null,
   "id": "a99c6386-a9fc-4251-b1af-65918e4e7ce2",
   "metadata": {},
   "outputs": [],
   "source": [
    "fin_de_semaine = ['samedi','dimanche']\n",
    "\n",
    "if 'lundi' in fin_de_semaine :\n",
    "    print('Cette journée fait partie de la fin de semaine')\n",
    "else :\n",
    "    print('Cette journée fait partie de la semaine')"
   ]
  },
  {
   "cell_type": "markdown",
   "id": "ec1eb037-a324-44f8-b3e5-2a2610bbefc1",
   "metadata": {},
   "source": [
    "Exercice\n",
    "\n",
    "Utilisez la déclaration `if` pour déterminer si `'bra'` est dans `'abracadabra'`."
   ]
  },
  {
   "cell_type": "code",
   "execution_count": null,
   "id": "a4d8d3e8-d106-4929-8a1d-006fed5e170b",
   "metadata": {},
   "outputs": [],
   "source": [
    "if 'bra' in 'abracadabra' :\n",
    "    print('oui')"
   ]
  },
  {
   "cell_type": "markdown",
   "id": "78dbf10d-f7c2-4eb6-9577-7cf6a5399c73",
   "metadata": {},
   "source": [
    "Utilisez la déclaration `if` pour déterminer si 24 est un nombre pair."
   ]
  },
  {
   "cell_type": "code",
   "execution_count": null,
   "id": "e83f3853-5ac8-4fbc-8318-93664b211462",
   "metadata": {},
   "outputs": [],
   "source": [
    "if 24%2 == 0 :\n",
    "    print('24 est un nombre pair')"
   ]
  },
  {
   "cell_type": "markdown",
   "id": "5c57ebb0-f003-43b5-a3c8-a10411f06b08",
   "metadata": {},
   "source": [
    "### On peut ensuite combiner les boucles et la déclaration `if`"
   ]
  },
  {
   "cell_type": "code",
   "execution_count": null,
   "id": "b5870140-8b63-4f62-853f-e31a0d223d18",
   "metadata": {},
   "outputs": [],
   "source": [
    "semaine_complete = ['lundi', 'mardi','mercredi','jeudi','vendredi','samedi','dimanche']\n",
    "\n",
    "for jour in semaine_complete :\n",
    "    if jour in fin_de_semaine :\n",
    "        print(jour)"
   ]
  },
  {
   "cell_type": "markdown",
   "id": "daecc7d6-f4b2-4624-94dc-540af396fbfa",
   "metadata": {},
   "source": [
    "Exercice\n",
    "\n",
    "Afficher les nombres de 1 à 10 et indiquer s'ils sont pairs ou impairs"
   ]
  },
  {
   "cell_type": "code",
   "execution_count": null,
   "id": "d9b6a884-db7a-4b08-8b21-c9a3499d67b7",
   "metadata": {},
   "outputs": [],
   "source": [
    "for i in range(1,11) :\n",
    "    if i%2 == 0 :\n",
    "        print(str(i) + ' est un nombre pair')\n",
    "    else :\n",
    "        print(str(i) + ' est un nombre impair')"
   ]
  },
  {
   "cell_type": "markdown",
   "id": "f5ba95a1-4770-4f54-bdd8-643990973277",
   "metadata": {},
   "source": [
    "Filtrer les mots de la liste `mots` qui commencent par une voyelle"
   ]
  },
  {
   "cell_type": "code",
   "execution_count": null,
   "id": "1e0d7a9a-9af4-4bf4-8e7c-d608a3d34932",
   "metadata": {},
   "outputs": [],
   "source": [
    "mots = ['chat', 'avion', 'tapis', 'soleil', 'orange',\n",
    "        'livre', 'robot', 'usine', 'banane', 'papillon',\n",
    "        'pomme', 'stylo', 'igloo', 'montagne', 'escalier']\n",
    "\n",
    "voyelle = ['a','e','i','o','u','y']\n",
    "\n",
    "for i in mots :\n",
    "    if i[0] in voyelle :\n",
    "        print(i)"
   ]
  },
  {
   "cell_type": "markdown",
   "id": "0b21a6cb-32c3-42c2-af27-d939bbc311d3",
   "metadata": {},
   "source": [
    "### Lecture de fichiers\n",
    "\n",
    "- Fichiers **tabulaires** (CSV, Excel, JSON, XML). Ces fichiers sont facilement lus et manipulables avec le paquet `pandas`. Vous apprendrez à utiliser ce paquet davantage dans la prochaine formation, mais voici un aperçu."
   ]
  },
  {
   "cell_type": "code",
   "execution_count": null,
   "id": "ebd6fbfb-7f94-402d-985c-16c14776a255",
   "metadata": {},
   "outputs": [],
   "source": [
    "import pandas as pd"
   ]
  },
  {
   "cell_type": "code",
   "execution_count": null,
   "id": "519cb26b-be81-43b2-8a08-8ce11a1209b1",
   "metadata": {},
   "outputs": [],
   "source": [
    "# source des données : \n",
    "# https://www.donneesquebec.ca/recherche/dataset/reseau-wifi/resource/2a451b5f-cbe9-4dcb-b9e5-03e63ababcad\n",
    "# Localisation des points d'accès à un réseau wifi gratuit\n",
    "wifi = pd.read_csv(\"data/zap.csv\")"
   ]
  },
  {
   "cell_type": "code",
   "execution_count": null,
   "id": "91d4f63d-5626-4c35-b241-b632d5025719",
   "metadata": {
    "scrolled": true
   },
   "outputs": [],
   "source": [
    "wifi"
   ]
  },
  {
   "cell_type": "code",
   "execution_count": null,
   "id": "9853dc47-722a-48c3-8f44-69bacbde64a2",
   "metadata": {},
   "outputs": [],
   "source": [
    "type(wifi)"
   ]
  },
  {
   "cell_type": "markdown",
   "id": "08073f13-c9a3-4db5-9a75-ce70affd4898",
   "metadata": {},
   "source": [
    "- Fichiers **textes** au format **atypique** : Ces types de fichiers demandent plus de travail manuel pour structurer les données, car ils ne sont pas tabulaires ou les lignes ne sont pas uniformes. Des exemples de formats de fichiers incluent les données biologiques (ex : FASTA, FASTQ, GBK) et les fichiers textes (.txt). Ils doivent être lus avec la fonction `open()`."
   ]
  },
  {
   "cell_type": "code",
   "execution_count": null,
   "id": "7c1266dc-bf5d-4534-8f9c-9a6e9d2d896f",
   "metadata": {},
   "outputs": [],
   "source": [
    "animaux = []\n",
    "with open('data/liste_animaux.txt', 'r') as f :\n",
    "    for line in f :\n",
    "        line = line.strip()\n",
    "        animaux.append(line)"
   ]
  },
  {
   "cell_type": "markdown",
   "id": "8c6268e9-d137-45b5-9671-06e0e546fa34",
   "metadata": {},
   "source": [
    "Décortiquons chaque ligne de cette cellule de code :\n",
    "\n",
    "1. `animaux = []`\n",
    "- On crée d'abord une liste vide, appelée `animaux`. Cette liste va contenir les noms d’animaux lus dans le fichier.\n",
    "\n",
    "2. `with open('liste_animaux.txt', 'r') as f :`\n",
    "- La déclaration `with` avant la fonction `open()` garantit que le fichier est correctement fermé, même en cas d'erreurs.\n",
    "- Les paramètres de fonction `open()` spécifient :\n",
    "  - le fichier à lire (et le chemin vers son répertoire, le cas échéant) : `'liste_animaux.txt'`\n",
    "  - le mode d'ouverture : `'r'` pour lire le fichier, `'w'` pour écrire un nouveau fichier, `'a'` pour ajouter à un fichier déjà existant\n",
    "- L'expression `as f` sert à donner un nom à l’objet fichier que Python retourne lorsqu’il ouvre le fichier. Cet objet permet ensuite d’interagir avec le fichier. Le nom `f` n'a aucune importance, on aurait pu l'appeler `banane` !\n",
    "- On termine la ligne 2 avec un `:`, ce qui indique le début d’un bloc qu'on indente (comme pour la boucle).\n",
    "\n",
    "3. `for line in f :`\n",
    "\n",
    "Parcourt chaque ligne du fichier f, une à une. À chaque tour de boucle, la variable `line` contient une ligne du fichier. De la même manière que `f` aurait pu être appelé `banane`, `line` peut prendre n'importe quel nom.\n",
    "\n",
    "4. `line = line.strip()`\n",
    "\n",
    "La commande `strip()` supprime les espaces, tabulations, et surtout les sauts de ligne (\\n) en début et fin de ligne. Cela permet d’avoir une chaîne propre (juste le nom de l’animal).\n",
    "\n",
    "5. `animaux.append(line)`\n",
    "\n",
    "La commande `append()` ajoute la ligne nettoyée (le nom d’un animal) à la liste `animaux`."
   ]
  },
  {
   "cell_type": "code",
   "execution_count": null,
   "id": "9e9e736a-3305-486c-9a86-afb6c915f311",
   "metadata": {
    "scrolled": true
   },
   "outputs": [],
   "source": [
    "animaux"
   ]
  },
  {
   "cell_type": "markdown",
   "id": "ce1a31c3-68ca-46bf-8ad1-3c1c35f8292b",
   "metadata": {},
   "source": [
    "Exercice\n",
    "\n",
    "Lire chaque ligne du fichier `prenom_age.txt`, extraire l'âge et afficher les personnes de plus de 30 ans."
   ]
  },
  {
   "cell_type": "code",
   "execution_count": null,
   "id": "2771fd0b-a037-4735-bebf-e0ff9a8ab18a",
   "metadata": {},
   "outputs": [],
   "source": [
    "with open('../data/prenom_age.txt', 'r') as f :\n",
    "    for line in f :\n",
    "        line = line.strip().split(',')\n",
    "        prenom = line[0]\n",
    "        age = int(line[1])\n",
    "        if age > 30 :\n",
    "            print(prenom, age)"
   ]
  },
  {
   "cell_type": "markdown",
   "id": "0209bd4a-8db0-420d-9720-9909337f3ef3",
   "metadata": {},
   "source": [
    "Exercice\n",
    "\n",
    "Lire le fichier `temperature_avril.txt` et calculer la moyenne de température."
   ]
  },
  {
   "cell_type": "code",
   "execution_count": null,
   "id": "1fb353c3-bfad-465c-936f-15732a930e15",
   "metadata": {},
   "outputs": [],
   "source": [
    "temperature_avril = []\n",
    "with open('../data/temperature_avril.txt', 'r') as f :\n",
    "    for line in f :\n",
    "        line = line.strip()\n",
    "        temperature_avril.append(int(line))\n",
    "\n",
    "print(sum(temperature_avril)/len(temperature_avril))"
   ]
  },
  {
   "cell_type": "markdown",
   "id": "27d9c5cd-b818-4614-94f0-00fbd5bd80d1",
   "metadata": {},
   "source": [
    "### Finalement, on peut aussi appliquer la boucle `for` pour lire plusieurs fichiers en lot."
   ]
  },
  {
   "cell_type": "markdown",
   "id": "98bcf0c1-420a-4f97-887f-03f8e02007e7",
   "metadata": {},
   "source": [
    "Défi !\n",
    "\n",
    "Complétez le code suivant qui permet de lire tous les fichiers avec l'extension `.fasta` et de stocker toutes les séquences dans un seul dictionnaire."
   ]
  },
  {
   "cell_type": "code",
   "execution_count": null,
   "id": "b5c2f383-3b6c-407d-b836-23a40034baba",
   "metadata": {},
   "outputs": [],
   "source": [
    "import glob\n",
    "\n",
    "filename = (glob.glob('data/*.fasta'))\n",
    "\n",
    "#"
   ]
  }
 ],
 "metadata": {
  "kernelspec": {
   "display_name": "Python 3 (ipykernel)",
   "language": "python",
   "name": "python3"
  },
  "language_info": {
   "codemirror_mode": {
    "name": "ipython",
    "version": 3
   },
   "file_extension": ".py",
   "mimetype": "text/x-python",
   "name": "python",
   "nbconvert_exporter": "python",
   "pygments_lexer": "ipython3",
   "version": "3.13.1"
  }
 },
 "nbformat": 4,
 "nbformat_minor": 5
}
