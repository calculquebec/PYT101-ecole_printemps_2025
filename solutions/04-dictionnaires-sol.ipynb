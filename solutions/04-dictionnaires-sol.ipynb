{
 "cells": [
  {
   "cell_type": "markdown",
   "id": "88ee2371-03a6-4bf2-8d24-a472ba9089db",
   "metadata": {},
   "source": [
    "# Les dictionnaires\n",
    "\n",
    "## Objectif : apprendre à utiliser les dictionnaires\n",
    "\n",
    "Les dictionnaires sont une autre sorte de structure de données dans Python. Ils sont très utiles, car ils permettent de stocker et d'accéder rapidement à des paires **clé–valeur**. Les dictionnaires sont représentés par des accolades `{}`. C’est un peu comme un vrai dictionnaire : on cherche un mot (la clé, ou *key*) pour obtenir sa définition (la valeur, ou *value*).\n",
    "\n",
    "Exemple de taille en mètre de nos mammifères marins préférés :\n",
    "\n",
    "`taille_mammifere_marin = {'rorqual' : 20, 'narval' : 5, 'beluga' : 4}`\n",
    "\n",
    "Dans cet exemple, rorqual, narval et beluga sont les **clés**, tandis que 20, 5 et 4 sont les **valeurs**. Comme dans un dictionnaire, **chaque clé doit être unique**, tandis qu'une valeur peut être identique entre plusieurs clés.\n",
    "\n",
    "- **Déclaration d'un dictionnaire** : pour créer un nouveau dictionnaire, il est possible de d'abord créer un dictionnaire vide puis de le remplir, ou de créer et remplir le dictionnaire dans la même commande."
   ]
  },
  {
   "cell_type": "code",
   "execution_count": null,
   "id": "dbc0d931-aab1-4700-ad34-307c19dd0e86",
   "metadata": {},
   "outputs": [],
   "source": [
    "capitales = {}"
   ]
  },
  {
   "cell_type": "code",
   "execution_count": null,
   "id": "d5602f9c-a5f2-4ae8-9b57-2f082012482b",
   "metadata": {},
   "outputs": [],
   "source": [
    "capitales"
   ]
  },
  {
   "cell_type": "code",
   "execution_count": null,
   "id": "acdc4f4e-d3d1-47ac-b090-cf015d3915b7",
   "metadata": {},
   "outputs": [],
   "source": [
    "type(capitales)"
   ]
  },
  {
   "cell_type": "code",
   "execution_count": null,
   "id": "0f4b530a-d7fb-4a76-b8d4-9cb0fa25ac76",
   "metadata": {},
   "outputs": [],
   "source": [
    "capitales['France'] = 'Paris'\n",
    "capitales['Canada'] = 'Ottawa'\n",
    "capitales['Italie'] = 'Rome'\n",
    "capitales['Espagne'] = 'Madrid'"
   ]
  },
  {
   "cell_type": "code",
   "execution_count": null,
   "id": "00343a82-e1f8-4b3c-acb5-74a44dcac4ec",
   "metadata": {},
   "outputs": [],
   "source": [
    "capitales"
   ]
  },
  {
   "cell_type": "code",
   "execution_count": null,
   "id": "25fba61a-fe5d-4b56-a905-5595db3735ff",
   "metadata": {},
   "outputs": [],
   "source": [
    "elements = {\"Hydrogène\": \"H\", \"Oxygène\": \"O\", \"Carbone\": \"C\", \"Azote\": \"N\"}"
   ]
  },
  {
   "cell_type": "code",
   "execution_count": null,
   "id": "67c77e5e-2ca4-4189-88f3-7ca8494a91e2",
   "metadata": {},
   "outputs": [],
   "source": [
    "elements"
   ]
  },
  {
   "cell_type": "markdown",
   "id": "1729e6ef-01ae-49f2-9cca-dd19ae077b38",
   "metadata": {},
   "source": [
    "Le dictionnaire peut être rempli par n'importe quel type de données : liste, chaîne, nombre, booléen, un autre dictionnaire."
   ]
  },
  {
   "cell_type": "code",
   "execution_count": null,
   "id": "494922bc-2f5b-4f00-bac7-de0c58271d27",
   "metadata": {},
   "outputs": [],
   "source": [
    "genes = {\n",
    "    \"BRCA1\": {\n",
    "        \"chromosome\": 17,\n",
    "        \"localisation\": \"17q21.31\",\n",
    "        \"fonction\": \"réparation de l'ADN\",\n",
    "        \"maladies_associées\": [\"cancer du sein\", \"cancer de l'ovaire\"]\n",
    "    },\n",
    "    \"TP53\": {\n",
    "        \"chromosome\": 17,\n",
    "        \"localisation\": \"17p13.1\",\n",
    "        \"fonction\": \"suppresseur de tumeur\",\n",
    "        \"maladies_associées\": [\"syndrome de Li-Fraumeni\", \"cancers divers\"]\n",
    "    },\n",
    "    \"CFTR\": {\n",
    "        \"chromosome\": 7,\n",
    "        \"localisation\": \"7q31.2\",\n",
    "        \"fonction\": \"transport de chlore à travers les membranes cellulaires\",\n",
    "        \"maladies_associées\": [\"fibrose kystique\"]\n",
    "    }\n",
    "}"
   ]
  },
  {
   "cell_type": "markdown",
   "id": "655cf0f3-7e56-496e-8ba1-bb0e43e5f11e",
   "metadata": {},
   "source": [
    "- **Accéder à une valeur** : on ajoute le nom de la clé associée à la valeur entre crochets après le nom du dictionnaire. Si la clé n'existe pas, cela provoque une erreur `KeyError`."
   ]
  },
  {
   "cell_type": "code",
   "execution_count": null,
   "id": "6ef0fc9a-c586-4896-a03f-75ecd3034c1c",
   "metadata": {},
   "outputs": [],
   "source": [
    "capitales['France']"
   ]
  },
  {
   "cell_type": "code",
   "execution_count": null,
   "id": "694b1821-c3cc-43db-a386-73ecb7d5efc5",
   "metadata": {},
   "outputs": [],
   "source": [
    "capitales['Japon']"
   ]
  },
  {
   "cell_type": "markdown",
   "id": "2c073426-3b57-4aae-8fa7-35b3a813e6a2",
   "metadata": {},
   "source": [
    "Exercice\n",
    "\n",
    "Quelle syntaxe permettrait de faire sortir la valeur de fonction du gène CFTR ?"
   ]
  },
  {
   "cell_type": "code",
   "execution_count": null,
   "id": "68881d1d-2875-41da-8cf6-5d65bc959eb0",
   "metadata": {},
   "outputs": [],
   "source": [
    "genes['CFTR']['fonction']"
   ]
  },
  {
   "cell_type": "markdown",
   "id": "cd61bb48-891d-47a3-9685-6ca15bc196f5",
   "metadata": {},
   "source": [
    "- **Modifier une valeur** : "
   ]
  },
  {
   "cell_type": "code",
   "execution_count": null,
   "id": "10000ec1-ceb1-4f65-8742-577365d21748",
   "metadata": {},
   "outputs": [],
   "source": [
    "capitales['Thaïlande'] = 'Bankok'"
   ]
  },
  {
   "cell_type": "code",
   "execution_count": null,
   "id": "1eed76a2-385b-4a36-816c-509b5706db9b",
   "metadata": {},
   "outputs": [],
   "source": [
    "capitales['Thaïlande']"
   ]
  },
  {
   "cell_type": "code",
   "execution_count": null,
   "id": "c72be92e-c549-4b73-9ce9-61a46ada58bb",
   "metadata": {},
   "outputs": [],
   "source": [
    "capitales['Thaïlande'] = 'Bangkok'"
   ]
  },
  {
   "cell_type": "code",
   "execution_count": null,
   "id": "5866b044-ad22-4d95-9a4a-15103aa673f6",
   "metadata": {},
   "outputs": [],
   "source": [
    "capitales['Thaïlande']"
   ]
  },
  {
   "cell_type": "markdown",
   "id": "d6d12598-861a-4763-8dfa-a19dd1a6538b",
   "metadata": {},
   "source": [
    "### Commandes intéressantes\n",
    "\n",
    "- `.keys()` : pour faire ressortir toutes les clés d'un dictionnaire"
   ]
  },
  {
   "cell_type": "code",
   "execution_count": null,
   "id": "fc0e2ba1-a82b-4f95-abef-969b7b657238",
   "metadata": {},
   "outputs": [],
   "source": [
    "capitales.keys()"
   ]
  },
  {
   "cell_type": "markdown",
   "id": "4c7ab4ef-441b-4a52-8103-c83d370f812e",
   "metadata": {},
   "source": [
    "- `.values()` : pour faire ressortir toutes les valeurs d'un dictionnaire"
   ]
  },
  {
   "cell_type": "code",
   "execution_count": null,
   "id": "709b599f-f039-4ade-b0aa-ff904a9d8f73",
   "metadata": {},
   "outputs": [],
   "source": [
    "elements.values()"
   ]
  },
  {
   "cell_type": "markdown",
   "id": "73e068bc-c553-4634-912d-c9b2471f829f",
   "metadata": {},
   "source": [
    "- `.items()` : pour faire ressortir toutes les paires clés-valeurs d'un dictionnaire"
   ]
  },
  {
   "cell_type": "code",
   "execution_count": null,
   "id": "27de5253-3f02-421a-bf69-d0c0a85ca2d4",
   "metadata": {},
   "outputs": [],
   "source": [
    "capitales.items()"
   ]
  },
  {
   "cell_type": "markdown",
   "id": "9997526d-5adf-4c21-9d13-baff51695ed9",
   "metadata": {},
   "source": [
    "### Pour aller plus loin\n",
    "\n",
    "Maintenant que nous connaissons la structure d'un dictionnaire, il est intéressant de vous montrer l'objet `Counter` du paquet `collections` qui est très utile pour compter le nombre d'occurrence de chaque élément d'une liste."
   ]
  },
  {
   "cell_type": "code",
   "execution_count": null,
   "id": "7ca7121b-549e-4f75-b5e5-43bf283fe3f2",
   "metadata": {},
   "outputs": [],
   "source": [
    "from collections import Counter"
   ]
  },
  {
   "cell_type": "markdown",
   "id": "fd962711-39a4-4e85-a417-fbe2bef8c1a9",
   "metadata": {},
   "source": [
    "Vous remarquez peut-être ici que la commande pour importer `Counter` est légèrement différente de la commande que nous avions vue précédemment lorsque nous avons importé `sys`. On ajoute en effet le mot-clé `from` qui spécifie d'importer seulement une section (`Counter`) spécifique du module (`collections`)."
   ]
  },
  {
   "cell_type": "code",
   "execution_count": null,
   "id": "99b48aa6-02fe-4a23-9faa-75384439165b",
   "metadata": {},
   "outputs": [],
   "source": [
    "liste_animaux = [\"ours\", \"chien\", \"zèbre\", \"tigre\", \"ours\", \"zèbre\", \"zèbre\", \n",
    "                 \"tigre\", \"éléphant\", \"chat\", \"tigre\", \"loup\", \"tigre\", \"loup\", \n",
    "                 \"chat\", \"loup\", \"ours\", \"éléphant\", \"tigre\", \"tigre\", \"ours\", \n",
    "                 \"cheval\", \"chat\", \"loup\", \"tigre\", \"cheval\", \"loup\", \"zèbre\", \n",
    "                 \"chat\", \"zèbre\", \"lion\", \"tigre\", \"chat\", \"girafe\", \"chat\", \"cheval\",\n",
    "                 \"girafe\", \"tigre\", \"zèbre\", \"ours\", \"ours\", \"zèbre\", \"girafe\", \n",
    "                 \"tigre\", \"zèbre\", \"cheval\", \"chat\", \"tigre\", \"éléphant\", \"chien\",\n",
    "                 \"chien\", \"loup\", \"tigre\", \"lion\", \"chat\", \"tigre\", \"tigre\", \"éléphant\", \n",
    "                 \"tigre\", \"loup\", \"lion\", \"chien\", \"tigre\", \"tigre\", \"loup\", \"chat\", \n",
    "                 \"zèbre\", \"zèbre\", \"chat\", \"chat\", \"tigre\", \"chien\", \"zèbre\", \"zèbre\", \n",
    "                 \"zèbre\", \"éléphant\", \"lion\", \"tigre\", \"cheval\", \"girafe\", \"loup\", \n",
    "                 \"éléphant\", \"girafe\", \"éléphant\", \"tigre\", \"cheval\", \"loup\", \"éléphant\",\n",
    "                 \"loup\", \"lion\", \"zèbre\", \"zèbre\", \"tigre\", \"chat\", \"chat\", \"chien\", \"tigre\",\n",
    "                 \"zèbre\", \"loup\", \"ours\", \"girafe\", \"tigre\", \"girafe\", \"chien\", \"zèbre\",\n",
    "                 \"tigre\", \"loup\", \"chien\", \"loup\", \"zèbre\", \"cheval\", \"tigre\", \"zèbre\", \n",
    "                 \"ours\", \"loup\", \"chien\", \"éléphant\", \"zèbre\", \"zèbre\", \"zèbre\", \"loup\", \n",
    "                 \"loup\", \"chat\", \"tigre\", \"ours\", \"zèbre\", \"loup\", \"chat\", \"chien\", \"girafe\",\n",
    "                 \"chat\", \"zèbre\", \"tigre\", \"zèbre\", \"tigre\", \"chien\", \"loup\", \"zèbre\", \n",
    "                 \"tigre\", \"lion\", \"loup\", \"loup\", \"éléphant\", \"loup\", \"girafe\", \"éléphant\", \n",
    "                 \"chat\", \"chien\", \"loup\", \"loup\", \"chat\", \"lion\", \"chat\", \"chat\", \"chien\", \n",
    "                 \"lion\", \"loup\", \"zèbre\", \"cheval\", \"zèbre\", \"cheval\", \"tigre\", \"loup\",\n",
    "                 \"lion\", \"chat\", \"zèbre\", \"éléphant\", \"tigre\", \"chien\", \"ours\", \"ours\", \n",
    "                 \"chien\", \"zèbre\", \"chat\", \"cheval\", \"lion\", \"loup\", \"tigre\", \"cheval\", \n",
    "                 \"loup\", \"cheval\", \"cheval\", \"zèbre\", \"ours\", \"zèbre\", \"zèbre\", \"tigre\", \n",
    "                 \"lion\", \"girafe\", \"girafe\", \"tigre\", \"tigre\", \"chat\", \"zèbre\", \"ours\", \n",
    "                 \"chien\", \"zèbre\", \"loup\", \"tigre\", \"chat\", \"tigre\", \"tigre\", \"ours\", \"chat\",\n",
    "                 \"girafe\", \"chat\", \"loup\", \"chien\", \"ours\", \"zèbre\", \"tigre\", \"zèbre\", \"zèbre\",\n",
    "                 \"tigre\", \"zèbre\", \"tigre\", \"girafe\", \"loup\", \"éléphant\", \"zèbre\", \"ours\", \n",
    "                 \"chat\", \"éléphant\", \"éléphant\", \"chat\", \"girafe\", \"lion\", \"tigre\", \"tigre\", \n",
    "                 \"ours\", \"cheval\", \"chien\", \"tigre\", \"tigre\", \"zèbre\", \"éléphant\", \"tigre\", \n",
    "                 \"zèbre\", \"girafe\", \"zèbre\", \"loup\", \"zèbre\", \"zèbre\", \"loup\", \"lion\", \"tigre\",\n",
    "                 \"zèbre\", \"tigre\", \"lion\", \"cheval\", \"zèbre\", \"éléphant\", \"tigre\", \"loup\", \"lion\", \n",
    "                 \"zèbre\", \"zèbre\", \"tigre\", \"loup\", \"tigre\", \"zèbre\", \"cheval\", \"tigre\", \"loup\",\n",
    "                 \"chat\", \"tigre\", \"girafe\", \"ours\", \"tigre\", \"tigre\", \"girafe\", \"loup\", \"girafe\",\n",
    "                 \"tigre\", \"loup\", \"ours\", \"chat\", \"cheval\", \"chat\", \"éléphant\", \"chien\", \"lion\",\n",
    "                 \"cheval\", \"lion\", \"zèbre\", \"zèbre\", \"tigre\", \"chat\", \"tigre\", \"zèbre\", \"chien\",\n",
    "                 \"girafe\", \"loup\", \"zèbre\", \"loup\", \"loup\", \"zèbre\", \"éléphant\", \"chat\", \n",
    "                 \"girafe\", \"chien\", \"lion\", \"ours\", \"tigre\", \"chat\", \"cheval\", \"chat\", \"girafe\",\n",
    "                 \"girafe\", \"loup\", \"lion\", \"zèbre\", \"ours\", \"chien\", \"ours\", \"zèbre\", \"ours\", \n",
    "                 \"loup\", \"zèbre\", \"zèbre\", \"tigre\", \"tigre\", \"éléphant\", \"loup\", \"zèbre\", \"ours\",\n",
    "                 \"zèbre\", \"tigre\", \"éléphant\", \"girafe\", \"zèbre\", \"zèbre\", \"girafe\", \"ours\", \n",
    "                 \"loup\", \"lion\", \"chat\", \"tigre\", \"éléphant\", \"chat\", \"tigre\", \"cheval\", \"ours\",\n",
    "                 \"zèbre\", \"éléphant\", \"tigre\", \"zèbre\", \"chat\", \"tigre\", \"zèbre\", \"zèbre\", \"tigre\",\n",
    "                 \"zèbre\", \"loup\", \"cheval\", \"chien\", \"zèbre\", \"zèbre\", \"ours\", \"lion\", \"girafe\",\n",
    "                 \"tigre\", \"cheval\", \"girafe\", \"zèbre\", \"zèbre\", \"girafe\", \"loup\", \"zèbre\", \"éléphant\",\n",
    "                 \"cheval\", \"tigre\", \"tigre\", \"loup\", \"tigre\", \"tigre\", \"tigre\", \"chien\", \"tigre\", \n",
    "                 \"loup\", \"zèbre\", \"zèbre\", \"chat\", \"chat\", \"loup\", \"zèbre\", \"loup\", \"chat\", \"cheval\",\n",
    "                 \"tigre\", \"tigre\", \"tigre\", \"girafe\", \"loup\", \"tigre\", \"tigre\", \"ours\", \"loup\", \n",
    "                 \"tigre\", \"éléphant\", \"girafe\", \"cheval\"]"
   ]
  },
  {
   "cell_type": "code",
   "execution_count": null,
   "id": "8e598fa1-062b-4d58-b04e-ce6f171b6255",
   "metadata": {},
   "outputs": [],
   "source": [
    "Counter(liste_animaux)"
   ]
  },
  {
   "cell_type": "markdown",
   "id": "612dd700-d9c5-4cde-9a28-99ad5a2ce7ed",
   "metadata": {},
   "source": [
    "`Counter()` retourne un dictionnaire avec comme clé chaque élément unique d'une liste et comme valeur l'occurrence de chacun de ces éléments. Il devient donc facile et rapide d'obtenir l'occurrence de n'importe quel élément d'une liste en accédant à la valeur."
   ]
  },
  {
   "cell_type": "markdown",
   "id": "d54c60ee-458a-4950-b724-92abb6abb8a3",
   "metadata": {},
   "source": [
    "Exercice\n",
    "\n",
    "Faites imprimer l'occurrence de `'girafe'` dans `'liste_animaux'`"
   ]
  },
  {
   "cell_type": "code",
   "execution_count": null,
   "id": "6fb5ed18-f35d-435f-8041-29b2ff0bdf4b",
   "metadata": {},
   "outputs": [],
   "source": [
    "Counter(liste_animaux)['girafe']"
   ]
  }
 ],
 "metadata": {
  "kernelspec": {
   "display_name": "Python 3 (ipykernel)",
   "language": "python",
   "name": "python3"
  },
  "language_info": {
   "codemirror_mode": {
    "name": "ipython",
    "version": 3
   },
   "file_extension": ".py",
   "mimetype": "text/x-python",
   "name": "python",
   "nbconvert_exporter": "python",
   "pygments_lexer": "ipython3",
   "version": "3.13.1"
  }
 },
 "nbformat": 4,
 "nbformat_minor": 5
}
