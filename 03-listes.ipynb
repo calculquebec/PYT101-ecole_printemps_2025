{
 "cells": [
  {
   "cell_type": "markdown",
   "id": "47c3efae-186c-4bf9-9b6f-94745393007d",
   "metadata": {},
   "source": [
    "# Listes\n",
    "\n",
    "## Objectifs : apprendre à utiliser les listes\n",
    "\n",
    "À la fin du dernier notebook, nous avons vu que `sys.argv` retourne une nouvelle structure de données : les listes. Les listes sont représentées par des crochets `[]` et peuvent contenir n'importe quelle structure de données, séparées par des virgules."
   ]
  },
  {
   "cell_type": "code",
   "execution_count": 2,
   "id": "58f32d26-f621-4661-aae3-60509df68552",
   "metadata": {},
   "outputs": [
    {
     "data": {
      "text/plain": [
       "[1, 2, 3, 4, 5]"
      ]
     },
     "execution_count": 2,
     "metadata": {},
     "output_type": "execute_result"
    }
   ],
   "source": [
    "[1, 2, 3, 4, 5]"
   ]
  },
  {
   "cell_type": "markdown",
   "id": "04371dfd-e1a6-462a-ac76-4435259b4d75",
   "metadata": {},
   "source": [
    "Une liste peut contenir plusieurs types de structures de données et même d'autres listes !"
   ]
  },
  {
   "cell_type": "code",
   "execution_count": 3,
   "id": "e9ca1e34-fcd2-4099-8af3-bbb374b64b26",
   "metadata": {},
   "outputs": [
    {
     "data": {
      "text/plain": [
       "[6, 'chaîne', 7, 'une autre chaîne']"
      ]
     },
     "execution_count": 3,
     "metadata": {},
     "output_type": "execute_result"
    }
   ],
   "source": [
    "[6, 'chaîne', 7, 'une autre chaîne']"
   ]
  },
  {
   "cell_type": "code",
   "execution_count": 4,
   "id": "7a8836ed-0869-41d5-bafa-40ec4be4b87d",
   "metadata": {},
   "outputs": [
    {
     "data": {
      "text/plain": [
       "[True, ['une', 'autre', 'liste'], 8, 9, 10]"
      ]
     },
     "execution_count": 4,
     "metadata": {},
     "output_type": "execute_result"
    }
   ],
   "source": [
    "[True, ['une', 'autre', 'liste'], 8, 9, 10]"
   ]
  },
  {
   "cell_type": "markdown",
   "id": "b38df68b-01a0-49a7-8ac5-e6096d52f639",
   "metadata": {},
   "source": [
    "Nous pouvons extraire différentes parties d’une liste grâce à l’indexation. Pour cela, on ajoute une paire de crochets après la liste concernée, accompagnée de l’**indice** des éléments que l’on souhaite obtenir. À noter qu’en Python, tous les indices commencent à 0 — le premier élément est donc en réalité l’élément d’indice 0 (ce qui est différent de langages comme R ou MATLAB).\n",
    "\n",
    "<p align=\"center\">\n",
    "  <img src=\"fig/liste.png\" alt=\"Photo centrée\" width=\"600\">\n",
    "</p>"
   ]
  },
  {
   "cell_type": "code",
   "execution_count": 7,
   "id": "2c92a503-182e-40ef-a83e-13e29e76350f",
   "metadata": {},
   "outputs": [],
   "source": [
    "ma_liste = ['rouge','vert','bleu','noir','jaune','orange']"
   ]
  },
  {
   "cell_type": "markdown",
   "id": "d74e0615-9a6b-4e25-8a8d-ab51d7b6afa1",
   "metadata": {},
   "source": [
    "L'élément 'vert' est le deuxième de `ma_liste`, donc son indice est `1`."
   ]
  },
  {
   "cell_type": "code",
   "execution_count": 8,
   "id": "bd1597e1-b193-42e5-9c8e-4e4b4fba663b",
   "metadata": {},
   "outputs": [
    {
     "data": {
      "text/plain": [
       "'vert'"
      ]
     },
     "execution_count": 8,
     "metadata": {},
     "output_type": "execute_result"
    }
   ],
   "source": [
    "ma_liste[1]"
   ]
  },
  {
   "cell_type": "markdown",
   "id": "ab476938-67f9-426b-9b28-baeb12dee391",
   "metadata": {},
   "source": [
    "Notez que nous pouvons indexer une plage de valeurs à l’aide de l’opérateur deux-points (`:`).\n",
    "Un deux-points seul signifie « récupérer tous les éléments »."
   ]
  },
  {
   "cell_type": "code",
   "execution_count": 9,
   "id": "ac77f083-2d77-4376-9caf-39b98b5cf06c",
   "metadata": {},
   "outputs": [
    {
     "data": {
      "text/plain": [
       "['rouge', 'vert', 'bleu', 'noir', 'jaune', 'orange']"
      ]
     },
     "execution_count": 9,
     "metadata": {},
     "output_type": "execute_result"
    }
   ],
   "source": [
    "ma_liste[:]"
   ]
  },
  {
   "cell_type": "markdown",
   "id": "5a3434fc-46b2-4fa3-b2c2-cb647d9b3f6c",
   "metadata": {},
   "source": [
    "Un deux-points placé à droite d’un indice signifie l'indice et tout ce qui vient après."
   ]
  },
  {
   "cell_type": "code",
   "execution_count": 10,
   "id": "de9d9efe-7d24-4a02-8b97-3123b059a139",
   "metadata": {},
   "outputs": [
    {
     "data": {
      "text/plain": [
       "['noir', 'jaune', 'orange']"
      ]
     },
     "execution_count": 10,
     "metadata": {},
     "output_type": "execute_result"
    }
   ],
   "source": [
    "ma_liste[3:]"
   ]
  },
  {
   "cell_type": "markdown",
   "id": "44291ed5-8d51-4fdc-933d-7e3c98499ca9",
   "metadata": {},
   "source": [
    "Un deux-points placé à gauche d’un indice signifie tout ce qui vient avant l'indice, en **excluant** l'indice."
   ]
  },
  {
   "cell_type": "code",
   "execution_count": 11,
   "id": "c948bd97-9847-4ce9-b388-d11f78b8e266",
   "metadata": {},
   "outputs": [
    {
     "data": {
      "text/plain": [
       "['rouge', 'vert', 'bleu']"
      ]
     },
     "execution_count": 11,
     "metadata": {},
     "output_type": "execute_result"
    }
   ],
   "source": [
    "ma_liste[:3]"
   ]
  },
  {
   "cell_type": "markdown",
   "id": "f23e4180-4676-422d-ac00-bbc8578d4622",
   "metadata": {},
   "source": [
    "Il est également possible d'indexer une plage de valeurs avec des indices de départ et de fin. Important de retenir que l'indice de fin est toujours exclus."
   ]
  },
  {
   "cell_type": "code",
   "execution_count": 19,
   "id": "550ea4ff-d523-4c78-becf-e3e314cbb73d",
   "metadata": {},
   "outputs": [
    {
     "data": {
      "text/plain": [
       "['vert', 'bleu', 'noir']"
      ]
     },
     "execution_count": 19,
     "metadata": {},
     "output_type": "execute_result"
    }
   ],
   "source": [
    "ma_liste[1:4]"
   ]
  },
  {
   "cell_type": "markdown",
   "id": "7e868c07-5bec-411f-bf45-c56b9af5906c",
   "metadata": {},
   "source": [
    "Et utiliser un indice négatif signifie que l’on récupère les éléments à partir de la fin, en remontant vers le début. À noter que le dernier élément de la liste ne porte pas l'indice `-0`, mais plutôt `-1`. Les joies de Python !"
   ]
  },
  {
   "cell_type": "code",
   "execution_count": 12,
   "id": "758afab5-d1fe-47f9-8f4f-9932a1bf2418",
   "metadata": {},
   "outputs": [
    {
     "data": {
      "text/plain": [
       "'orange'"
      ]
     },
     "execution_count": 12,
     "metadata": {},
     "output_type": "execute_result"
    }
   ],
   "source": [
    "ma_liste[-1]"
   ]
  },
  {
   "cell_type": "markdown",
   "id": "37261470-2855-4e4a-899a-c2d892de9525",
   "metadata": {},
   "source": [
    "Et de la même manière, il est possible d'indexer une plage de valeurs avec des indices négatifs."
   ]
  },
  {
   "cell_type": "code",
   "execution_count": 22,
   "id": "0957a3ad-8327-4674-ab35-46a8b9dd254e",
   "metadata": {},
   "outputs": [
    {
     "data": {
      "text/plain": [
       "['noir', 'jaune']"
      ]
     },
     "execution_count": 22,
     "metadata": {},
     "output_type": "execute_result"
    }
   ],
   "source": [
    "ma_liste[-3:-1]"
   ]
  },
  {
   "cell_type": "markdown",
   "id": "43346c11-0d43-487b-bed3-63764f5c9a8e",
   "metadata": {},
   "source": [
    "Si nous utilisons un indice en dehors des limites de la liste, un message d'erreur est retourné."
   ]
  },
  {
   "cell_type": "code",
   "execution_count": 24,
   "id": "1d16bb74-21da-420a-ad89-4498dd7fc697",
   "metadata": {},
   "outputs": [
    {
     "ename": "IndexError",
     "evalue": "list index out of range",
     "output_type": "error",
     "traceback": [
      "\u001b[0;31m---------------------------------------------------------------------------\u001b[0m",
      "\u001b[0;31mIndexError\u001b[0m                                Traceback (most recent call last)",
      "Cell \u001b[0;32mIn[24], line 1\u001b[0m\n\u001b[0;32m----> 1\u001b[0m \u001b[43mma_liste\u001b[49m\u001b[43m[\u001b[49m\u001b[38;5;241;43m25\u001b[39;49m\u001b[43m]\u001b[49m\n",
      "\u001b[0;31mIndexError\u001b[0m: list index out of range"
     ]
    }
   ],
   "source": [
    "ma_liste[25]"
   ]
  },
  {
   "cell_type": "markdown",
   "id": "6939dd03-9a30-42a2-839e-01797eb325ae",
   "metadata": {},
   "source": [
    "### Manipulation de listes\n",
    "\n",
    "Voici quelques commandes utiles pour manipuler les listes.\n",
    "\n",
    "- `len()` : retourne la longueur de la liste"
   ]
  },
  {
   "cell_type": "code",
   "execution_count": 26,
   "id": "f1187b1f-7359-40ec-b4b3-07182fdeab9f",
   "metadata": {},
   "outputs": [
    {
     "data": {
      "text/plain": [
       "6"
      ]
     },
     "execution_count": 26,
     "metadata": {},
     "output_type": "execute_result"
    }
   ],
   "source": [
    "len(ma_liste)"
   ]
  },
  {
   "cell_type": "markdown",
   "id": "0f3cf279-58b8-43bc-ba8c-27392dcf26ba",
   "metadata": {},
   "source": [
    "- `.append()` : ajouter un élément à la fin de la liste"
   ]
  },
  {
   "cell_type": "code",
   "execution_count": 27,
   "id": "9c0b5c4e-f91c-4308-8806-23e378eb2c00",
   "metadata": {},
   "outputs": [],
   "source": [
    "ma_liste.append('mauve')"
   ]
  },
  {
   "cell_type": "code",
   "execution_count": 28,
   "id": "63b755a2-3cea-429c-afea-f30dd119fb3c",
   "metadata": {},
   "outputs": [
    {
     "data": {
      "text/plain": [
       "['rouge', 'vert', 'bleu', 'noir', 'jaune', 'orange', 'mauve']"
      ]
     },
     "execution_count": 28,
     "metadata": {},
     "output_type": "execute_result"
    }
   ],
   "source": [
    "ma_liste"
   ]
  },
  {
   "cell_type": "markdown",
   "id": "5b84bce3-7c7b-4118-9971-a82701d73693",
   "metadata": {},
   "source": [
    "- combiner des listes. Important de remarquer ici que le `+` ne permet pas de faire des additions de listes contenant des nombres."
   ]
  },
  {
   "cell_type": "code",
   "execution_count": 30,
   "id": "6d1fee88-3876-4be7-82dc-f7ec8493e610",
   "metadata": {},
   "outputs": [
    {
     "data": {
      "text/plain": [
       "['abeille',\n",
       " 'papillon',\n",
       " 'libellule',\n",
       " 'mouche',\n",
       " 'rouge',\n",
       " 'vert',\n",
       " 'bleu',\n",
       " 'noir',\n",
       " 'jaune',\n",
       " 'orange',\n",
       " 'mauve']"
      ]
     },
     "execution_count": 30,
     "metadata": {},
     "output_type": "execute_result"
    }
   ],
   "source": [
    "deuxieme_liste = ['abeille', 'papillon','libellule','mouche']\n",
    "deuxieme_liste + ma_liste"
   ]
  },
  {
   "cell_type": "code",
   "execution_count": 31,
   "id": "087e6ccf-ac02-408f-a3f9-dcc06c203fdd",
   "metadata": {},
   "outputs": [
    {
     "data": {
      "text/plain": [
       "[10, 20, 30, 40, 50, 1, 1, 1, 1, 1]"
      ]
     },
     "execution_count": 31,
     "metadata": {},
     "output_type": "execute_result"
    }
   ],
   "source": [
    "[10, 20, 30, 40, 50] + [1, 1, 1, 1, 1]"
   ]
  },
  {
   "cell_type": "markdown",
   "id": "eaca5ebc-50a3-44fb-9e49-becf58d8de49",
   "metadata": {},
   "source": [
    "et non `[11, 21, 31, 41, 51]`\n",
    "\n",
    "- `.count()` : pour compter l'occurrence d'un élément dans la liste."
   ]
  },
  {
   "cell_type": "code",
   "execution_count": 32,
   "id": "66767d3c-e0b1-47b0-9daf-8b595b4007c3",
   "metadata": {},
   "outputs": [
    {
     "data": {
      "text/plain": [
       "4"
      ]
     },
     "execution_count": 32,
     "metadata": {},
     "output_type": "execute_result"
    }
   ],
   "source": [
    "lattitude = [40.741895, 35.67686, 41.382894, 41.382894, 48.85889, 35.67686, 35.67686, 40.741895, 48.85889, 48.85889, 35.67686]\n",
    "lattitude.count(35.67686)"
   ]
  },
  {
   "cell_type": "markdown",
   "id": "df580fe3-41be-48a3-a856-d5dfdde7716d",
   "metadata": {},
   "source": [
    "- `.sort()`: pour mettre les éléments d'une liste en ordre alphanumérique. Aucune sortie en résultat, vient modifier la liste."
   ]
  },
  {
   "cell_type": "code",
   "execution_count": 33,
   "id": "4f23273d-ce4c-425a-b639-0574779355f3",
   "metadata": {},
   "outputs": [],
   "source": [
    "lattitude.sort()"
   ]
  },
  {
   "cell_type": "code",
   "execution_count": 34,
   "id": "bbc8da54-e890-4ef9-8c3a-7107c49ec541",
   "metadata": {},
   "outputs": [
    {
     "data": {
      "text/plain": [
       "[35.67686,\n",
       " 35.67686,\n",
       " 35.67686,\n",
       " 35.67686,\n",
       " 40.741895,\n",
       " 40.741895,\n",
       " 41.382894,\n",
       " 41.382894,\n",
       " 48.85889,\n",
       " 48.85889,\n",
       " 48.85889]"
      ]
     },
     "execution_count": 34,
     "metadata": {},
     "output_type": "execute_result"
    }
   ],
   "source": [
    "lattitude"
   ]
  },
  {
   "cell_type": "markdown",
   "id": "52330bb3-ee10-4d1a-a70e-81e7b89722e0",
   "metadata": {},
   "source": [
    "- `set()` : retourne les valeurs uniques d'une liste"
   ]
  },
  {
   "cell_type": "code",
   "execution_count": 35,
   "id": "b51a9ae6-d029-4798-831c-b0f7f8af4d5f",
   "metadata": {},
   "outputs": [
    {
     "data": {
      "text/plain": [
       "{35.67686, 40.741895, 41.382894, 48.85889}"
      ]
     },
     "execution_count": 35,
     "metadata": {},
     "output_type": "execute_result"
    }
   ],
   "source": [
    "set(lattitude)"
   ]
  },
  {
   "cell_type": "markdown",
   "id": "877410b4-96dc-4df5-85b4-d1f4e10e66f7",
   "metadata": {},
   "source": [
    "### Pour aller plus loin\n",
    "\n",
    "Avec Python, plusieurs chemins mènent à Rome ! Il y a souvent plus d'une façon d'obtenir le même résultat, parfois de façon plus ou moins optimale. \n",
    "\n",
    "Exercice : développez votre capacité à faire des recherches Google pour découvrir des commandes. Trouvez deux différentes commandes permettant de retirer des éléments d'une liste."
   ]
  },
  {
   "cell_type": "code",
   "execution_count": 1,
   "id": "10de823e-c002-409a-8bf1-732f091b7b80",
   "metadata": {},
   "outputs": [],
   "source": [
    "#"
   ]
  }
 ],
 "metadata": {
  "kernelspec": {
   "display_name": "Python 3 (ipykernel)",
   "language": "python",
   "name": "python3"
  },
  "language_info": {
   "codemirror_mode": {
    "name": "ipython",
    "version": 3
   },
   "file_extension": ".py",
   "mimetype": "text/x-python",
   "name": "python",
   "nbconvert_exporter": "python",
   "pygments_lexer": "ipython3",
   "version": "3.13.1"
  }
 },
 "nbformat": 4,
 "nbformat_minor": 5
}
