{
 "cells": [
  {
   "cell_type": "markdown",
   "id": "f367243c-a7dd-414d-aade-bd7c31c58d3c",
   "metadata": {},
   "source": [
    "# Scripts et importations\n",
    "## Objectifs : \n",
    "## - Expliquer ce qui constitue un programme Python.\n",
    "## - Importer des paquets Python."
   ]
  },
  {
   "cell_type": "markdown",
   "id": "93ae7870-0aee-4c62-99c7-2466345959ee",
   "metadata": {},
   "source": [
    "### Scripts\n",
    "\n",
    "Les programmes Python sont simplement un ensemble de commandes Python enregistrées dans un fichier. Pas besoin de compilation ! Pour le démontrer, écrivons notre tout premier programme !\n",
    "\n",
    "Copiez le texte suivant dans un éditeur de texte et enregistrez-le sous le nom de votre choix (les fichiers Python ont généralement l’extension .py).\n",
    "\n",
    "`print(\"je viens d'exécuter mon premier script python!!!\")`"
   ]
  },
  {
   "cell_type": "markdown",
   "id": "16633cb2-26eb-4a06-ae9a-4ee4cc91ff74",
   "metadata": {},
   "source": [
    "Nous pouvons maintenant exécuter ce programme de plusieurs façons. Si nous ouvrons un terminal dans le dossier où nous avons enregistré notre programme, nous pouvons utiliser la commande suivante pour l’exécuter :\n",
    "\n",
    "`python mon_premier_script.py`\n",
    "\n",
    "Les notebooks Python offrent aussi la possibilité d'exécuter du code Bash à même le notebook. Il s'uffit d'ajouter `!` avant la commande à exécuter.\n",
    "\n",
    "`!python mon_premier_script.py`\n",
    "\n",
    "Qu'est-ce qui se passe quand on exécute le script ?\n",
    "\n",
    "En quoi est-ce que les scripts sont utiles ? Quels sont les avantages d'un script vs un notebook vs la ligne de commande ?\n",
    "\n",
    "Il est possible d'exporter un notebook sous forme de script exécutable : File -> Save and Export Notebook As -> Executable Script"
   ]
  },
  {
   "cell_type": "markdown",
   "id": "44c179f8-da6c-4b92-98d9-9440bf6503b1",
   "metadata": {},
   "source": [
    "### Importer des paquets Python\n",
    "\n",
    "Python inclut de nombreuses fonctionnalités supplémentaires sous forme de paquets, mais tous ne sont pas chargés par défaut. Pour accéder à un paquet, nous devons l’importer. Certains de ses paquets sont généralistes, tandis que d'autres sont pour des utilisations très spécifiques. Voici quelques exemples de paquets populaires :\n",
    "\n",
    "- pandas\n",
    "- numpy\n",
    "- matplotlib\n",
    "- os\n",
    "- seaborn\n",
    "- scikit-learn\n",
    "\n",
    "Pour rester dans l'esprit des scripts, nous allons tester l'importation du paquet `sys` qui permet entre autre d'accéder aux arguments de la ligne de commande."
   ]
  },
  {
   "cell_type": "code",
   "execution_count": null,
   "id": "c0346071-7de9-455a-b820-626f64fffeb9",
   "metadata": {},
   "outputs": [],
   "source": [
    "import sys"
   ]
  },
  {
   "cell_type": "markdown",
   "id": "a3c90263-fe02-4dc5-8f39-3adcade073c4",
   "metadata": {},
   "source": [
    "Pour tester les fonctionnalités de `sys`, copiez le texte suivant dans un éditeur de texte et enregistrez-le sous le nom de votre choix.\n",
    "\n",
    "`import sys` \n",
    "\n",
    "`print('Nous avons écrit: ', sys.argv)`"
   ]
  },
  {
   "cell_type": "markdown",
   "id": "26e84e55-0e45-4043-9122-fb3a67929f86",
   "metadata": {},
   "source": [
    "Exécutez le script en ajoutant des mots ou des chiffres après le nom du script, par exemple :\n",
    "\n",
    "`!python test_sys.py des choses pour tester ce paquet 1 2 3 4 5`\n",
    "\n",
    "Sortie : \n",
    "\n",
    "`Nous avons écrit: ['test_sys.py', 'des', 'choses', 'pour', 'tester', 'ce', 'paquet', '1', '2', '3', '4', '5']`"
   ]
  },
  {
   "cell_type": "markdown",
   "id": "3f67c1a3-7939-4d61-b37a-9c1e8ef0df62",
   "metadata": {},
   "source": [
    "La variable `sys.argv` est une liste qui contient les arguments passés au script via la ligne de commande. Vous remarquez peut-être que `sys.argv` retourne une structure de données que nous n'avons pas encore rencontrée : les **listes**. Nous y reviendrons plus tard.\n",
    "\n",
    "Le paquet `sys` peut être très utile lorsqu'un script doit être utilisé plusieurs fois avec des fichiers d'entrée différents. Il permet de spécifier des variables à même la ligne de commande, sans avoir à changer le script."
   ]
  }
 ],
 "metadata": {
  "kernelspec": {
   "display_name": "Python 3 (ipykernel)",
   "language": "python",
   "name": "python3"
  },
  "language_info": {
   "codemirror_mode": {
    "name": "ipython",
    "version": 3
   },
   "file_extension": ".py",
   "mimetype": "text/x-python",
   "name": "python",
   "nbconvert_exporter": "python",
   "pygments_lexer": "ipython3",
   "version": "3.13.1"
  }
 },
 "nbformat": 4,
 "nbformat_minor": 5
}
