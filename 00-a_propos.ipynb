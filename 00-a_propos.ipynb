{
 "cells": [
  {
   "cell_type": "markdown",
   "id": "de950ab4-20d3-4fd7-acdc-696915a6734d",
   "metadata": {},
   "source": [
    "# PYT101 - Introduction à la programmation en Python\n",
    "## À propos\n",
    "\n",
    "Cet atelier est une adaptation des tutoriels de\n",
    "[Software Carpentry - Programming with Python](https://swcarpentry.github.io/python-novice-inflammation/) et de [Introduction to High-Performance Computing in Python](https://www.hpc-carpentry.org/hpc-python/).\n",
    "\n",
    "Note : les *notebooks* IPython du présent atelier et les données associées sont [publiés sur GitHub](https://github.com/calculquebec/PYT101-ecole_printemps_2025)."
   ]
  },
  {
   "cell_type": "markdown",
   "id": "f1952ae5-a501-4065-a092-410335ad3cd6",
   "metadata": {},
   "source": [
    "### Comment utiliser l'interface Jupyter\n",
    "Lorsqu'une cellule est en mode d'édition :\n",
    "\n",
    "  Raccourci | Description\n",
    "----------- | -----------\n",
    "MAJ+Entrée  | Exécuter une cellule et aller à la suivante\n",
    "Tab         | Indenter le code ou autocomplétion\n",
    "Échap       | Aller en mode commande\n",
    "\n",
    "Lorsqu'une cellule est en mode commande :\n",
    "\n",
    "  Raccourci | Description\n",
    "----------- | -----------\n",
    "MAJ+Entrée  | Exécuter une cellule et aller à la suivante\n",
    "Double-clic | Aller en mode édition\n",
    "Entrée      | Aller en mode édition\n",
    "\n",
    "  Raccourci | Description\n",
    "----------- | -----------\n",
    "A           | Insérer une cellule en haut\n",
    "B           | Insérer une cellule en bas\n",
    "C           | Copier la cellule\n",
    "V           | Coller la cellule en bas\n",
    "D D         | Supprimer la cellule\n",
    "M           | Changer la cellule en code Markdown\n",
    "Y           | Changer la cellule en code Python\n",
    "\n",
    "Pour réinitialiser toutes les cellules :\n",
    "* Aller dans le menu du haut et sélectionner Kernel -> Restart & Clear Output"
   ]
  }
 ],
 "metadata": {
  "kernelspec": {
   "display_name": "Python 3 (ipykernel)",
   "language": "python",
   "name": "python3"
  },
  "language_info": {
   "codemirror_mode": {
    "name": "ipython",
    "version": 3
   },
   "file_extension": ".py",
   "mimetype": "text/x-python",
   "name": "python",
   "nbconvert_exporter": "python",
   "pygments_lexer": "ipython3",
   "version": "3.13.1"
  }
 },
 "nbformat": 4,
 "nbformat_minor": 5
}
